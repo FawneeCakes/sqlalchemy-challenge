{
  "nbformat": 4,
  "nbformat_minor": 0,
  "metadata": {
    "colab": {
      "provenance": [],
      "mount_file_id": "1bYuCsOTM_zalqQGrob0I0fmNYi_Hjh-f",
      "authorship_tag": "ABX9TyMpzRiFXwgn95iH5kJzH4dD",
      "include_colab_link": true
    },
    "kernelspec": {
      "name": "python3",
      "display_name": "Python 3"
    },
    "language_info": {
      "name": "python"
    }
  },
  "cells": [
    {
      "cell_type": "markdown",
      "metadata": {
        "id": "view-in-github",
        "colab_type": "text"
      },
      "source": [
        "<a href=\"https://colab.research.google.com/github/FawneeCakes/sqlalchemy-challenge/blob/main/climate_starter.ipynb\" target=\"_parent\"><img src=\"https://colab.research.google.com/assets/colab-badge.svg\" alt=\"Open In Colab\"/></a>"
      ]
    },
    {
      "cell_type": "code",
      "execution_count": 1,
      "metadata": {
        "colab": {
          "base_uri": "https://localhost:8080/"
        },
        "id": "X4oawJK2oqrX",
        "outputId": "36a47c0e-ab2d-4c09-f57a-926d0fd12df8"
      },
      "outputs": [
        {
          "output_type": "stream",
          "name": "stdout",
          "text": [
            "Hit:1 http://archive.ubuntu.com/ubuntu jammy InRelease\n",
            "Get:2 http://archive.ubuntu.com/ubuntu jammy-updates InRelease [128 kB]\n",
            "Hit:3 http://archive.ubuntu.com/ubuntu jammy-backports InRelease\n",
            "Get:4 http://security.ubuntu.com/ubuntu jammy-security InRelease [129 kB]\n",
            "Get:5 https://cloud.r-project.org/bin/linux/ubuntu jammy-cran40/ InRelease [3,626 B]\n",
            "Get:6 https://developer.download.nvidia.com/compute/cuda/repos/ubuntu2204/x86_64  InRelease [1,581 B]\n",
            "Get:7 http://archive.ubuntu.com/ubuntu jammy-updates/universe amd64 Packages [1,393 kB]\n",
            "Get:8 http://archive.ubuntu.com/ubuntu jammy-updates/restricted amd64 Packages [2,556 kB]\n",
            "Hit:9 https://ppa.launchpadcontent.net/c2d4u.team/c2d4u4.0+/ubuntu jammy InRelease\n",
            "Hit:10 https://ppa.launchpadcontent.net/deadsnakes/ppa/ubuntu jammy InRelease\n",
            "Get:11 http://archive.ubuntu.com/ubuntu jammy-updates/main amd64 Packages [2,189 kB]\n",
            "Hit:12 https://ppa.launchpadcontent.net/graphics-drivers/ppa/ubuntu jammy InRelease\n",
            "Hit:13 https://ppa.launchpadcontent.net/ubuntugis/ppa/ubuntu jammy InRelease\n",
            "Get:14 https://developer.download.nvidia.com/compute/cuda/repos/ubuntu2204/x86_64  Packages [929 kB]\n",
            "Fetched 7,330 kB in 6s (1,218 kB/s)\n",
            "Reading package lists... Done\n"
          ]
        }
      ],
      "source": [
        "import os\n",
        "# Find the latest version of spark 3.x  from https://downloads.apache.org/spark/ and enter as the spark version\n",
        "# For example:\n",
        "# spark_version = 'spark-3.5.1'\n",
        "spark_version = 'spark-3.5.1'\n",
        "os.environ['SPARK_VERSION']=spark_version\n",
        "\n",
        "# Install Spark and Java\n",
        "!apt-get update\n",
        "!apt-get install openjdk-11-jdk-headless -qq > /dev/null\n",
        "!wget -q https://downloads.apache.org/spark/$SPARK_VERSION/$SPARK_VERSION-bin-hadoop3.tgz\n",
        "!tar xf $SPARK_VERSION-bin-hadoop3.tgz\n",
        "!pip install -q findspark\n",
        "\n",
        "# Set Environment Variables\n",
        "os.environ[\"JAVA_HOME\"] = \"/usr/lib/jvm/java-11-openjdk-amd64\"\n",
        "os.environ[\"SPARK_HOME\"] = f\"/content/{spark_version}-bin-hadoop3\"\n",
        "\n",
        "# Start a SparkSession\n",
        "import findspark\n",
        "findspark.init()"
      ]
    },
    {
      "cell_type": "code",
      "source": [
        "# Import library\n",
        "import sqlite3\n",
        "%matplotlib inline\n",
        "from matplotlib import style\n",
        "style.use('fivethirtyeight')\n",
        "import matplotlib.pyplot as plt\n",
        "import numpy as np\n",
        "import pandas as pd\n",
        "import datetime as dt\n",
        "\n",
        "# Connect to an SQLite database; use ':memory:' for an in-memory database\n",
        "conn = sqlite3.connect(':memory:')"
      ],
      "metadata": {
        "id": "TcfJs2bqpHRF"
      },
      "execution_count": 3,
      "outputs": []
    },
    {
      "cell_type": "markdown",
      "source": [
        "# **Reflect Tables into SQLAlchemy ORM**"
      ],
      "metadata": {
        "id": "OXwjdWWQqRbn"
      }
    },
    {
      "cell_type": "code",
      "source": [
        "# Python SQL toolkit and Object Relational Mapper\n",
        "import sqlalchemy\n",
        "from sqlalchemy.ext.automap import automap_base\n",
        "from sqlalchemy.orm import Session\n",
        "from sqlalchemy import create_engine, func, inspect"
      ],
      "metadata": {
        "id": "pEdh6gTDpqrV"
      },
      "execution_count": 4,
      "outputs": []
    },
    {
      "source": [
        "# Import necessary libraries\n",
        "import sqlalchemy\n",
        "from sqlalchemy.ext.automap import automap_base\n",
        "from sqlalchemy.orm import Session\n",
        "from sqlalchemy import create_engine, func, inspect\n",
        "\n",
        "# Define the database file path\n",
        "db_path = \"Resources/hawaii.sqlite\"\n",
        "\n",
        "# create engine to hawaii.sqlite\n",
        "# just saying 'where is your datbase is located'\n",
        "engine = create_engine(f\"sqlite:///{db_path}\")"
      ],
      "cell_type": "code",
      "metadata": {
        "id": "tYQSEfY4qE0l"
      },
      "execution_count": 7,
      "outputs": []
    },
    {
      "cell_type": "code",
      "source": [
        "# Declare a Base using `automap_base()`\n",
        "Base = automap_base()\n",
        "# Use the Base class to reflect the database tables\n",
        "Base.prepare(engine, reflect=True)"
      ],
      "metadata": {
        "colab": {
          "base_uri": "https://localhost:8080/"
        },
        "id": "z_JZmWWBqG90",
        "outputId": "a11e153d-4130-4518-d19f-58584b0f8d4b"
      },
      "execution_count": 8,
      "outputs": [
        {
          "output_type": "stream",
          "name": "stderr",
          "text": [
            "<ipython-input-8-3aecdb707136>:4: SADeprecationWarning: The AutomapBase.prepare.reflect parameter is deprecated and will be removed in a future release.  Reflection is enabled when AutomapBase.prepare.autoload_with is passed.\n",
            "  Base.prepare(engine, reflect=True)\n"
          ]
        }
      ]
    },
    {
      "cell_type": "code",
      "source": [
        "# Print all of the classes mapped to the Base\n",
        "Base.classes.keys()"
      ],
      "metadata": {
        "colab": {
          "base_uri": "https://localhost:8080/"
        },
        "id": "HOsSd7_0quxs",
        "outputId": "2e6138e3-4880-408c-fc3f-d26811efdb62"
      },
      "execution_count": 9,
      "outputs": [
        {
          "output_type": "execute_result",
          "data": {
            "text/plain": [
              "['station', 'measurement']"
            ]
          },
          "metadata": {},
          "execution_count": 9
        }
      ]
    },
    {
      "cell_type": "code",
      "source": [
        "# Assign the measurement class to a variable called `Measurement` and\n",
        "# the station class to a variable called `Station`\n",
        "Measurement = Base.classes.measurement\n",
        "Station = Base.classes.station"
      ],
      "metadata": {
        "id": "iHUApwU3qzm9"
      },
      "execution_count": 10,
      "outputs": []
    },
    {
      "cell_type": "code",
      "source": [
        "# Create a session\n",
        "session = Session(bind=engine)"
      ],
      "metadata": {
        "id": "P4rgPnHxq4YA"
      },
      "execution_count": 12,
      "outputs": []
    },
    {
      "cell_type": "markdown",
      "source": [
        "# **Exploratory Precipitation Analysis**"
      ],
      "metadata": {
        "id": "ZfqG5rTzrJ5G"
      }
    },
    {
      "cell_type": "code",
      "source": [
        "# Find the most recent date in the data set.\n",
        "most_recent = (session.query(Measurement.date).order_by(Measurement.date.desc()).first()[0])\n",
        "most_recent"
      ],
      "metadata": {
        "colab": {
          "base_uri": "https://localhost:8080/",
          "height": 35
        },
        "id": "7eIRSnOirB0Z",
        "outputId": "4089d4d3-384d-402d-8441-4e74896c1b23"
      },
      "execution_count": 13,
      "outputs": [
        {
          "output_type": "execute_result",
          "data": {
            "text/plain": [
              "'2017-08-23'"
            ],
            "application/vnd.google.colaboratory.intrinsic+json": {
              "type": "string"
            }
          },
          "metadata": {},
          "execution_count": 13
        }
      ]
    },
    {
      "cell_type": "code",
      "source": [
        "# Design a query to retrieve the last 12 months of precipitation data and plot the results.\n",
        "# Starting from the most recent data point in the database.\n",
        "\n",
        "# Calculate the date one year from the last date in data set.\n",
        "one_year = dt.date(2017, 8, 23) - pd.DateOffset(years=1)\n",
        "one_year_date = dt.date(one_year.year, one_year.month, one_year.day)\n",
        "\n",
        "# Calculate the date one year prior to the most recent date\n",
        "\n",
        "\n",
        "# Perform a query to retrieve the data and precipitation scores\n",
        "precipitation = session.query(Measurement.date, Measurement.prcp).filter(Measurement.date >= one_year_date).all()\n",
        "\n",
        "# Save the query results as a Pandas DataFrame. Explicitly set the column names\n",
        "precipitation_df = pd.DataFrame(precipitation, columns=['date', 'precipitation'])\n",
        "precipitation_df['date']= pd.to_datetime(precipitation_df['date'])\n",
        "\n",
        "# Save the query results as a Pandas DataFrame. Explicitly set the column names\n",
        "\n",
        "# Sort the dataframe by date\n",
        "precipitation_df = precipitation_df.sort_values(by ='date')\n",
        "\n",
        "# Use Pandas Plotting with Matplotlib to plot the data\n",
        "precipitation_df.plot('date', 'precipitation', rot=90)\n",
        "plt.xlabel('Date')\n",
        "plt.ylabel('Inches')\n",
        "plt.legend([\"precipitation\"],loc='upper right')"
      ],
      "metadata": {
        "colab": {
          "base_uri": "https://localhost:8080/",
          "height": 501
        },
        "id": "UkDJ_bCerw4_",
        "outputId": "85f10159-0d4b-4115-9284-57a952a9969f"
      },
      "execution_count": 14,
      "outputs": [
        {
          "output_type": "execute_result",
          "data": {
            "text/plain": [
              "<matplotlib.legend.Legend at 0x79e8eb096fb0>"
            ]
          },
          "metadata": {},
          "execution_count": 14
        },
        {
          "output_type": "display_data",
          "data": {
            "text/plain": [
              "<Figure size 640x480 with 1 Axes>"
            ],
            "image/png": "[encoded data removed]"
          },
          "metadata": {}
        }
      ]
    },
    {
      "cell_type": "code",
      "source": [
        "# Use Pandas to calculate the summary statistics for the precipitation data\n",
        "precipitation_df['precipitation'].describe()"
      ],
      "metadata": {
        "colab": {
          "base_uri": "https://localhost:8080/"
        },
        "id": "LcFeV2Bar6M9",
        "outputId": "57b18920-4dd7-4cac-8d8b-894fa39beb31"
      },
      "execution_count": 16,
      "outputs": [
        {
          "output_type": "execute_result",
          "data": {
            "text/plain": [
              "count    2021.000000\n",
              "mean        0.177279\n",
              "std         0.461190\n",
              "min         0.000000\n",
              "25%         0.000000\n",
              "50%         0.020000\n",
              "75%         0.130000\n",
              "max         6.700000\n",
              "Name: precipitation, dtype: float64"
            ]
          },
          "metadata": {},
          "execution_count": 16
        }
      ]
    },
    {
      "cell_type": "markdown",
      "source": [
        "# **Exploratory Station Analysis**"
      ],
      "metadata": {
        "id": "qRLfQyPqsCMY"
      }
    },
    {
      "cell_type": "code",
      "source": [
        "# Design a query to calculate the total number stations in the dataset\n",
        "session.query(func.count(Station.station)).all()"
      ],
      "metadata": {
        "colab": {
          "base_uri": "https://localhost:8080/"
        },
        "id": "aXVHxsPvsGUf",
        "outputId": "573d52a8-caba-4d27-9854-0361e76ff8d8"
      },
      "execution_count": 17,
      "outputs": [
        {
          "output_type": "execute_result",
          "data": {
            "text/plain": [
              "[(9,)]"
            ]
          },
          "metadata": {},
          "execution_count": 17
        }
      ]
    },
    {
      "cell_type": "code",
      "source": [
        "# Design a query to find the most active stations\n",
        "#(i.e. what stations have the most rows?)\n",
        "# List the stations and the counts in descending order.\n",
        "station_rows = session.query(Measurement.station, func.count(Measurement.station)).\\\n",
        "group_by(Measurement.station).\\\n",
        "order_by(func.count(Measurement.station).desc()).all()\n",
        "station_rows"
      ],
      "metadata": {
        "colab": {
          "base_uri": "https://localhost:8080/"
        },
        "id": "cfl7JwazsP2N",
        "outputId": "e5f45397-3b04-41aa-c5da-0be2c4c0be4e"
      },
      "execution_count": 18,
      "outputs": [
        {
          "output_type": "execute_result",
          "data": {
            "text/plain": [
              "[('USC00519281', 2772),\n",
              " ('USC00519397', 2724),\n",
              " ('USC00513117', 2709),\n",
              " ('USC00519523', 2669),\n",
              " ('USC00516128', 2612),\n",
              " ('USC00514830', 2202),\n",
              " ('USC00511918', 1979),\n",
              " ('USC00517948', 1372),\n",
              " ('USC00518838', 511)]"
            ]
          },
          "metadata": {},
          "execution_count": 18
        }
      ]
    },
    {
      "cell_type": "code",
      "source": [
        "# Using the most active station id from the previous query, calculate the lowest, highest, and average temperature.\n",
        "session.query(func.min(Measurement.tobs),func.max(Measurement.tobs),func.avg(Measurement.tobs))\\\n",
        "    .filter(Measurement.station=='USC00519281').all()"
      ],
      "metadata": {
        "colab": {
          "base_uri": "https://localhost:8080/"
        },
        "id": "Qq43IL3_sXOz",
        "outputId": "99956a69-98ec-4ca4-bb9e-514136f54dd8"
      },
      "execution_count": 20,
      "outputs": [
        {
          "output_type": "execute_result",
          "data": {
            "text/plain": [
              "[(54.0, 85.0, 71.66378066378067)]"
            ]
          },
          "metadata": {},
          "execution_count": 20
        }
      ]
    },
    {
      "source": [
        "# Using the most active station id\n",
        "# Query the last 12 months of temperature observation data for this station\n",
        "# and plot the results as a histogram\n",
        "\n",
        "# Calculate the date one year from the last date in the dataset\n",
        "from datetime import datetime, timedelta\n",
        "last_date_str = session.query(func.max(Measurement.date)).scalar()\n",
        "last_date = datetime.strptime(last_date_str, '%Y-%m-%d')\n",
        "query_date = last_date - timedelta(days=365)\n",
        "\n",
        "query_temperature = session.query(Measurement.tobs).\\\n",
        "filter(Measurement.station == \"USC00519281\").\\\n",
        "filter(Measurement.date >= query_date).all()\n",
        "df2 = pd.DataFrame(query_temperature, columns = [\"tobs\"])\n",
        "df2.plot.hist(bins = 12)\n",
        "plt.xlabel('Temperature')\n",
        "plt.tight_layout()"
      ],
      "cell_type": "code",
      "metadata": {
        "colab": {
          "base_uri": "https://localhost:8080/",
          "height": 474
        },
        "id": "4MadLFwOsmoR",
        "outputId": "51b1e610-27d2-4db3-ef26-07aa05b845bd"
      },
      "execution_count": 22,
      "outputs": [
        {
          "output_type": "display_data",
          "data": {
            "text/plain": [
              "<Figure size 640x480 with 1 Axes>"
            ],
            "image/png": "[encoded data removed]"
          },
          "metadata": {}
        }
      ]
    },
    {
      "cell_type": "code",
      "source": [
        "# Close Session\n",
        "session.close()"
      ],
      "metadata": {
        "id": "DlqT-xyvsq9N"
      },
      "execution_count": 23,
      "outputs": []
    }
  ]
}